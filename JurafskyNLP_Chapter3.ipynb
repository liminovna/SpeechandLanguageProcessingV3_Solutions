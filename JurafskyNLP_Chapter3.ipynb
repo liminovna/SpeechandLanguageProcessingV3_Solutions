{
  "nbformat": 4,
  "nbformat_minor": 0,
  "metadata": {
    "colab": {
      "provenance": [],
      "authorship_tag": "ABX9TyM1Gk51JigFDY78/BNXR4S8",
      "include_colab_link": true
    },
    "kernelspec": {
      "name": "python3",
      "display_name": "Python 3"
    },
    "language_info": {
      "name": "python"
    }
  },
  "cells": [
    {
      "cell_type": "markdown",
      "metadata": {
        "id": "view-in-github",
        "colab_type": "text"
      },
      "source": [
        "<a href=\"https://colab.research.google.com/github/liminovna/SpeechandLanguageProcessingV3_Solutions/blob/main/JurafskyNLP_Chapter3.ipynb\" target=\"_parent\"><img src=\"https://colab.research.google.com/assets/colab-badge.svg\" alt=\"Open In Colab\"/></a>"
      ]
    },
    {
      "cell_type": "markdown",
      "source": [
        "## 3.4 We are given the following corpus:\n",
        "\n",
        "    '<s> i am sam </s>',\n",
        "    '<s> sam i am </s>',\n",
        "    '<s> i am sam </s>',\n",
        "    '<s> i do not like green eggs and sam </s>',\n",
        "\n",
        "Using a bigram language model with add-one smoothing, what is P(Sam|am)? Include \\<s> and \\<\\s> in your counts just like any other token."
      ],
      "metadata": {
        "id": "5WeQvLshhizt"
      }
    },
    {
      "cell_type": "code",
      "source": [
        "corpus = [\n",
        "    '<s> i am sam </s>',\n",
        "    '<s> sam i am </s>',\n",
        "    '<s> i am sam </s>',\n",
        "    '<s> i do not like green eggs and sam </s>',\n",
        "]"
      ],
      "metadata": {
        "id": "hteBrTSgiIp3"
      },
      "execution_count": 1,
      "outputs": []
    },
    {
      "cell_type": "code",
      "source": [
        "unigrams = {}\n",
        "bigrams = {}\n",
        "\n",
        "for s in corpus:\n",
        "  words = s.split()\n",
        "  # appending unigrams\n",
        "  for w in words:\n",
        "    if w not in unigrams.keys():\n",
        "      unigrams[w] = 1\n",
        "    else:\n",
        "      unigrams[w] += 1\n",
        "  # appending bigrams\n",
        "  cntr = 0\n",
        "  for i in range(len(words)-1):\n",
        "    cur_bigram = (words[cntr] + ' ' + words[cntr+1])\n",
        "    if cur_bigram not in bigrams:\n",
        "      bigrams[cur_bigram] = 1\n",
        "    else:\n",
        "      bigrams[cur_bigram] += 1\n",
        "    cntr += 1\n",
        "\n",
        "unigrams\n",
        "bigrams"
      ],
      "metadata": {
        "colab": {
          "base_uri": "https://localhost:8080/"
        },
        "id": "spPwRUYfi2r5",
        "outputId": "8f177c50-971f-42ba-9683-24f7b5e6c256"
      },
      "execution_count": 15,
      "outputs": [
        {
          "output_type": "execute_result",
          "data": {
            "text/plain": [
              "{'<s> i': 3,\n",
              " 'i am': 3,\n",
              " 'am sam': 2,\n",
              " 'sam </s>': 3,\n",
              " '<s> sam': 1,\n",
              " 'sam i': 1,\n",
              " 'am </s>': 1,\n",
              " 'i do': 1,\n",
              " 'do not': 1,\n",
              " 'not like': 1,\n",
              " 'like green': 1,\n",
              " 'green eggs': 1,\n",
              " 'eggs and': 1,\n",
              " 'and sam': 1}"
            ]
          },
          "metadata": {},
          "execution_count": 15
        }
      ]
    },
    {
      "cell_type": "code",
      "source": [
        "def add1smoothing(s):\n",
        "  s = s.lower()\n",
        "  words = s.split()\n",
        "  return (bigrams[s] + 1) / (unigrams[words[0]]+len(unigrams))"
      ],
      "metadata": {
        "id": "QxwnBeQViRqt"
      },
      "execution_count": 21,
      "outputs": []
    },
    {
      "cell_type": "code",
      "source": [
        "add1smoothing('am Sam')"
      ],
      "metadata": {
        "colab": {
          "base_uri": "https://localhost:8080/"
        },
        "id": "4XlSBp6kmb4D",
        "outputId": "886f8a86-6c26-4f29-ba56-89178f9372c8"
      },
      "execution_count": 22,
      "outputs": [
        {
          "output_type": "execute_result",
          "data": {
            "text/plain": [
              "0.21428571428571427"
            ]
          },
          "metadata": {},
          "execution_count": 22
        }
      ]
    }
  ]
}