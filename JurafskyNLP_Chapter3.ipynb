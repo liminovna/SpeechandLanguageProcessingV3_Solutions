{
  "nbformat": 4,
  "nbformat_minor": 0,
  "metadata": {
    "colab": {
      "provenance": [],
      "authorship_tag": "ABX9TyPqf5gb9jehOEXgveajdOmV",
      "include_colab_link": true
    },
    "kernelspec": {
      "name": "python3",
      "display_name": "Python 3"
    },
    "language_info": {
      "name": "python"
    }
  },
  "cells": [
    {
      "cell_type": "markdown",
      "metadata": {
        "id": "view-in-github",
        "colab_type": "text"
      },
      "source": [
        "<a href=\"https://colab.research.google.com/github/liminovna/SpeechandLanguageProcessingV3_Solutions/blob/main/JurafskyNLP_Chapter3.ipynb\" target=\"_parent\"><img src=\"https://colab.research.google.com/assets/colab-badge.svg\" alt=\"Open In Colab\"/></a>"
      ]
    },
    {
      "cell_type": "markdown",
      "source": [],
      "metadata": {
        "id": "59Ruee-hoZyX"
      }
    },
    {
      "cell_type": "markdown",
      "source": [
        "## 3.4 We are given the following corpus:\n",
        "\n",
        "    '<s> i am sam </s>',\n",
        "    '<s> sam i am </s>',\n",
        "    '<s> i am sam </s>',\n",
        "    '<s> i do not like green eggs and sam </s>',\n",
        "\n",
        "Using a bigram language model with add-one smoothing, what is P(Sam|am)? Include \\<s> and \\<\\s> in your counts just like any other token."
      ],
      "metadata": {
        "id": "5WeQvLshhizt"
      }
    },
    {
      "cell_type": "code",
      "source": [
        "class BigramModel():\n",
        "  def __init__(self, corpus):\n",
        "    self.unigrams = {}\n",
        "    self.bigrams = {}\n",
        "\n",
        "    for s in corpus:\n",
        "      words = s.split()\n",
        "      # appending unigrams\n",
        "      for w in words:\n",
        "        if w not in self.unigrams.keys():\n",
        "          self.unigrams[w] = 1\n",
        "        else:\n",
        "          self.unigrams[w] += 1\n",
        "      # appending bigrams\n",
        "      cntr = 0\n",
        "      for i in range(len(words)-1):\n",
        "        cur_bigram = (words[cntr] + ' ' + words[cntr+1])\n",
        "        if cur_bigram not in self.bigrams:\n",
        "          self.bigrams[cur_bigram] = 1\n",
        "        else:\n",
        "          self.bigrams[cur_bigram] += 1\n",
        "        cntr += 1\n",
        "\n",
        "  def add1smoothing_proba(self, s):\n",
        "    s = s.lower()\n",
        "    words = s.split()\n",
        "    return (self.bigrams[s] + 1) / (self.unigrams[words[0]]+len(self.unigrams))\n",
        "\n",
        "  def unsmoothed_proba(self, s):\n",
        "    s = s.lower()\n",
        "    words = s.split()\n",
        "    return self.bigrams[s]/self.unigrams[words[0]]"
      ],
      "metadata": {
        "id": "spPwRUYfi2r5"
      },
      "execution_count": 47,
      "outputs": []
    },
    {
      "cell_type": "code",
      "source": [
        "corpus = [\n",
        "    '<s> i am sam </s>',\n",
        "    '<s> sam i am </s>',\n",
        "    '<s> i am sam </s>',\n",
        "    '<s> i do not like green eggs and sam </s>',\n",
        "]\n",
        "\n",
        "model = BigramModel(corpus=corpus)\n",
        "model.add1smoothing_proba('am Sam')"
      ],
      "metadata": {
        "colab": {
          "base_uri": "https://localhost:8080/"
        },
        "id": "4XlSBp6kmb4D",
        "outputId": "6a944cf4-5dba-4e7f-c1fb-3fec80235ffc"
      },
      "execution_count": 49,
      "outputs": [
        {
          "output_type": "execute_result",
          "data": {
            "text/plain": [
              "0.21428571428571427"
            ]
          },
          "metadata": {},
          "execution_count": 49
        }
      ]
    },
    {
      "cell_type": "markdown",
      "source": [
        "## 3.5 Suppose we didn't use the end-symbol \\<\\s>. Train an unsmoothed bigram grammar on the following training corpus without using the end-symbol \\<\\s>:\n",
        "\n",
        "    '<s> a b',\n",
        "    '<s> b b',\n",
        "    '<s> b a',\n",
        "    '<s> a a'"
      ],
      "metadata": {
        "id": "AzUni4fUp7KU"
      }
    },
    {
      "cell_type": "code",
      "source": [
        "corpus = [\n",
        "    '<s> a b',\n",
        "    '<s> b b',\n",
        "    '<s> b a',\n",
        "    '<s> a a'\n",
        "]\n",
        "\n",
        "model = BigramModel(corpus=corpus)\n",
        "model.unsmoothed_proba('a a') + model.unsmoothed_proba('a b') + model.unsmoothed_proba('b b') + model.unsmoothed_proba('b a')"
      ],
      "metadata": {
        "colab": {
          "base_uri": "https://localhost:8080/"
        },
        "id": "ANABYHY4qnkR",
        "outputId": "03bd424f-cccf-4459-d6c8-5e74ef4b6b99"
      },
      "execution_count": 50,
      "outputs": [
        {
          "output_type": "execute_result",
          "data": {
            "text/plain": [
              "1.0"
            ]
          },
          "metadata": {},
          "execution_count": 50
        }
      ]
    }
  ]
}