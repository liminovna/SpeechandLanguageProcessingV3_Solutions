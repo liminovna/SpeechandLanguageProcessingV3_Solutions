{
  "nbformat": 4,
  "nbformat_minor": 0,
  "metadata": {
    "colab": {
      "provenance": [],
      "authorship_tag": "ABX9TyNqyQLzWcf2/IT6I9vUM7pj"
    },
    "kernelspec": {
      "name": "python3",
      "display_name": "Python 3"
    },
    "language_info": {
      "name": "python"
    }
  },
  "cells": [
    {
      "cell_type": "markdown",
      "source": [
        "## 3.1. Write out the equation for trigram probability estimation"
      ],
      "metadata": {
        "id": "59Ruee-hoZyX"
      }
    },
    {
      "cell_type": "markdown",
      "source": [
        "$P(w_n|w_{n-2}w_{n-1}) = \\frac{C(w_{n-2}w_{n-1}w_n)}{C(w_{n-2}w_{n-1})}$"
      ],
      "metadata": {
        "id": "UHXuOT9NkyPk"
      }
    },
    {
      "cell_type": "markdown",
      "source": [
        "Now write out all the non-zero trigram probabilities for the *I am Sam* corpus\n",
        "\n",
        "    <s> I am Sam </s>\n",
        "    <s> Sam I am </s>\n",
        "    <s> I do not like green eggs and ham </s>"
      ],
      "metadata": {
        "id": "T8z8qZb1mHol"
      }
    },
    {
      "cell_type": "code",
      "source": [
        "class TrigramModel():\n",
        "  def __init__(self, corpus):\n",
        "    # self.unigrams = {}\n",
        "    self.bigrams = {}\n",
        "    self.trigrams = {}\n",
        "\n",
        "    for s in corpus:\n",
        "      words = s.lower().split()\n",
        "      # # appending unigrams\n",
        "      # for w in words:\n",
        "      #   if w not in self.unigrams.keys():\n",
        "      #     self.unigrams[w] = 1\n",
        "      #   else:\n",
        "      #     self.unigrams[w] += 1\n",
        "      # appending bigrams\n",
        "      cntr = 0\n",
        "      for i in range(len(words)-1):\n",
        "        cur_bigram = (words[cntr] + ' ' + words[cntr+1])\n",
        "        if cur_bigram not in self.bigrams:\n",
        "          self.bigrams[cur_bigram] = 1\n",
        "        else:\n",
        "          self.bigrams[cur_bigram] += 1\n",
        "        cntr += 1\n",
        "      # appending trigrams\n",
        "      cntr = 0\n",
        "      for i in range(len(words)-2):\n",
        "        cur_trigram = (words[cntr] + ' ' + words[cntr+1] + ' ' + words[cntr+2])\n",
        "        if cur_trigram not in self.trigrams:\n",
        "          self.trigrams[cur_trigram] = 1\n",
        "        else:\n",
        "          self.trigrams[cur_trigram] += 1\n",
        "        cntr += 1\n",
        "\n",
        "  # def add1smoothing_proba(self, s):\n",
        "  #   s = s.lower()\n",
        "  #   words = s.split()\n",
        "  #   return (self.trigrams[s] + 1) / (self.unigrams[words[0]]+len(self.unigrams))\n",
        "\n",
        "  def unsmoothed_proba(self, s):\n",
        "    s = s.lower()\n",
        "    words = s.split()\n",
        "    return self.trigrams[s]/self.bigrams[words[0] + ' ' + words[1]]"
      ],
      "metadata": {
        "id": "0UL8k6V1oYr5"
      },
      "execution_count": null,
      "outputs": []
    },
    {
      "cell_type": "code",
      "source": [
        "corpus = [\n",
        "    '<s> I am Sam </s>',\n",
        "    '<s> Sam I am </s>',\n",
        "    '<s> I do not like green eggs and ham </s>',\n",
        "]\n",
        "\n",
        "model = TrigramModel(corpus=corpus)"
      ],
      "metadata": {
        "id": "NWONzZD_ojNu"
      },
      "execution_count": null,
      "outputs": []
    },
    {
      "cell_type": "code",
      "source": [
        "print('Answer: ')\n",
        "for t in model.trigrams.keys():\n",
        "  print(f'P({t}) = {model.unsmoothed_proba(t)}')"
      ],
      "metadata": {
        "colab": {
          "base_uri": "https://localhost:8080/"
        },
        "id": "DkItmVP9qQqs",
        "outputId": "5ff3e256-6f8e-445e-f0cd-5d2b72c7249e"
      },
      "execution_count": null,
      "outputs": [
        {
          "output_type": "stream",
          "name": "stdout",
          "text": [
            "Answer: \n",
            "P(<s> i am) = 0.5\n",
            "P(i am sam) = 0.5\n",
            "P(am sam </s>) = 1.0\n",
            "P(<s> sam i) = 1.0\n",
            "P(sam i am) = 1.0\n",
            "P(i am </s>) = 0.5\n",
            "P(<s> i do) = 0.5\n",
            "P(i do not) = 1.0\n",
            "P(do not like) = 1.0\n",
            "P(not like green) = 1.0\n",
            "P(like green eggs) = 1.0\n",
            "P(green eggs and) = 1.0\n",
            "P(eggs and ham) = 1.0\n",
            "P(and ham </s>) = 1.0\n"
          ]
        }
      ]
    },
    {
      "cell_type": "markdown",
      "source": [
        "## 3.2 Calculate the probability of the sentence *i want chinese food*. Give two probabilities -- unsmoothed and an add-one probability. Assume the additional add-1 smoothed probabilities $P(i|<s>)=0.19$ and $P(</s>|food)=0.40$."
      ],
      "metadata": {
        "id": "cku9pk3nqyMU"
      }
    },
    {
      "cell_type": "code",
      "source": [
        "sentence = '<s> I want chinese food <\\s>'\n",
        "unsmoothed_proba = 0.25*0.33*0.0065*0.52*0.68\n",
        "addone_proba = 0.19*0.21*0.0029*0.52*0.4\n",
        "print('Answer\\n',\\\n",
        "      'Unsmoothed probability:', \"{:.5f}\".format(unsmoothed_proba), '\\n',\\\n",
        "      'Add-one probability:', \"{:.7f}\".format(addone_proba))"
      ],
      "metadata": {
        "colab": {
          "base_uri": "https://localhost:8080/"
        },
        "id": "AobKG_ylquZ1",
        "outputId": "95a6f470-16d9-4ff8-b373-9a12d40d006d"
      },
      "execution_count": null,
      "outputs": [
        {
          "output_type": "stream",
          "name": "stdout",
          "text": [
            "Answer\n",
            " Unsmoothed probability: 0.00019 \n",
            " Add-one probability: 0.0000241\n"
          ]
        }
      ]
    },
    {
      "cell_type": "markdown",
      "source": [
        "## 3.3 Which of the two probabilities you computed in the previous exercise is higher, unsmoothed or smoothed? Explain why."
      ],
      "metadata": {
        "id": "m8DG8qbgrR97"
      }
    },
    {
      "cell_type": "markdown",
      "source": [
        "Answer:\n",
        "\n",
        "The unsmoothed probability is higher because we did not give away any bit of it to the events we have not seen, unlike smoothed probability which is what's left after we've 'shaved off' some of the probability mass."
      ],
      "metadata": {
        "id": "MfjiptJzrVWL"
      }
    },
    {
      "cell_type": "markdown",
      "source": [
        "## 3.4 We are given the following corpus:\n",
        "\n",
        "    '<s> i am sam </s>',\n",
        "    '<s> sam i am </s>',\n",
        "    '<s> i am sam </s>',\n",
        "    '<s> i do not like green eggs and sam </s>',\n",
        "\n",
        "Using a bigram language model with add-one smoothing, what is P(Sam|am)? Include \\<s> and \\<\\s> in your counts just like any other token."
      ],
      "metadata": {
        "id": "5WeQvLshhizt"
      }
    },
    {
      "cell_type": "code",
      "source": [
        "class BigramModel():\n",
        "  def __init__(self, corpus):\n",
        "    self.unigrams = {}\n",
        "    self.bigrams = {}\n",
        "\n",
        "    for s in corpus:\n",
        "      words = s.split()\n",
        "      # appending unigrams\n",
        "      for w in words:\n",
        "        if w not in self.unigrams.keys():\n",
        "          self.unigrams[w] = 1\n",
        "        else:\n",
        "          self.unigrams[w] += 1\n",
        "      # appending bigrams\n",
        "      cntr = 0\n",
        "      for i in range(len(words)-1):\n",
        "        cur_bigram = (words[cntr] + ' ' + words[cntr+1])\n",
        "        if cur_bigram not in self.bigrams:\n",
        "          self.bigrams[cur_bigram] = 1\n",
        "        else:\n",
        "          self.bigrams[cur_bigram] += 1\n",
        "        cntr += 1\n",
        "\n",
        "  def add1smoothing_proba(self, s):\n",
        "    s = s.lower()\n",
        "    words = s.split()\n",
        "    return (self.bigrams[s] + 1) / (self.unigrams[words[0]]+len(self.unigrams))\n",
        "\n",
        "  def unsmoothed_proba(self, s):\n",
        "    s = s.lower()\n",
        "    words = s.split()\n",
        "    return self.bigrams[s]/self.unigrams[words[0]]"
      ],
      "metadata": {
        "id": "spPwRUYfi2r5"
      },
      "execution_count": null,
      "outputs": []
    },
    {
      "cell_type": "code",
      "source": [
        "corpus = [\n",
        "    '<s> i am sam </s>',\n",
        "    '<s> sam i am </s>',\n",
        "    '<s> i am sam </s>',\n",
        "    '<s> i do not like green eggs and sam </s>',\n",
        "]\n",
        "\n",
        "model = BigramModel(corpus=corpus)\n",
        "print('Answer: ', round(model.add1smoothing_proba('am Sam'), 3))"
      ],
      "metadata": {
        "colab": {
          "base_uri": "https://localhost:8080/"
        },
        "id": "4XlSBp6kmb4D",
        "outputId": "f985b204-d74b-479d-8c94-e7fe5b53186a"
      },
      "execution_count": null,
      "outputs": [
        {
          "output_type": "stream",
          "name": "stdout",
          "text": [
            "Answer:  0.214\n"
          ]
        }
      ]
    },
    {
      "cell_type": "markdown",
      "source": [
        "## 3.5 Suppose we didn't use the end-symbol \\<\\s>. Train an unsmoothed bigram grammar on the following training corpus without using the end-symbol \\<\\s>:\n",
        "\n",
        "    '<s> a b',\n",
        "    '<s> b b',\n",
        "    '<s> b a',\n",
        "    '<s> a a'"
      ],
      "metadata": {
        "id": "AzUni4fUp7KU"
      }
    },
    {
      "cell_type": "code",
      "source": [
        "corpus = [\n",
        "    '<s> a b',\n",
        "    '<s> b b',\n",
        "    '<s> b a',\n",
        "    '<s> a a'\n",
        "]\n",
        "\n",
        "model = BigramModel(corpus=corpus)\n",
        "model.unsmoothed_proba('a a') + model.unsmoothed_proba('a b') + model.unsmoothed_proba('b b') + model.unsmoothed_proba('b a')"
      ],
      "metadata": {
        "colab": {
          "base_uri": "https://localhost:8080/"
        },
        "id": "ANABYHY4qnkR",
        "outputId": "03bd424f-cccf-4459-d6c8-5e74ef4b6b99"
      },
      "execution_count": null,
      "outputs": [
        {
          "output_type": "execute_result",
          "data": {
            "text/plain": [
              "1.0"
            ]
          },
          "metadata": {},
          "execution_count": 50
        }
      ]
    },
    {
      "cell_type": "markdown",
      "source": [
        "## 3.6 Suppose we train a trigram language model with add-one smoothing on a given corpus. The corpus contains V word types. Express a formula for estimating $P(w3,w1,w2)$, where $w3$ is a word which follows the bigram $(w1,w2)$, in terms of various n-gram counts and V."
      ],
      "metadata": {
        "id": "IntqWohrwE3i"
      }
    },
    {
      "cell_type": "markdown",
      "source": [
        "$P_{add-one} (w3|w1w2) = \\frac{C(w1w2w3)+1}{C(w1w2)+V_2}$\n",
        "\n",
        ", where $V_2$ is the number of unique bigrams in the corpus"
      ],
      "metadata": {
        "id": "BX5ykyKlwhYC"
      }
    },
    {
      "cell_type": "markdown",
      "source": [
        "## 3.7 We are given the following corpus, modified from the one in the chapter:\n",
        "    '<s> i am sam </s>',\n",
        "    '<s> sam i am </s>',\n",
        "    '<s> i am sam </s>',\n",
        "    '<s> i do not like green eggs and sam </s>',\n",
        "\n",
        "If we use linear interpolation smoothing between a maximum-likelihood bigram\n",
        "model and a maximum-likelihood unigram model with $\\lambda_1 = \\frac{1}{2}$ and $\\lambda_2 = \\frac{1}{2}$ , what is $P(Sam|am)$? Include \\<s> and </s> in your counts just like any other token."
      ],
      "metadata": {
        "id": "YQDyNKlJzCuZ"
      }
    },
    {
      "cell_type": "markdown",
      "source": [
        "Answer:\n",
        "\n",
        "$\\hat P(Sam|am) = \\lambda_1*P(Sam) + \\lambda_2*P(am|Sam)$"
      ],
      "metadata": {
        "id": "xl1Grh2B0roU"
      }
    },
    {
      "cell_type": "code",
      "source": [
        "lambda_1 = 0.5\n",
        "lambda_2 = 0.5\n",
        "p_sam = 4/25\n",
        "p_amsam = 2/3\n",
        "p_interpolation = lambda_1*p_sam + lambda_2*p_amsam\n",
        "print('Answer: ', p_interpolation)"
      ],
      "metadata": {
        "colab": {
          "base_uri": "https://localhost:8080/"
        },
        "id": "VciWU2ruwaNU",
        "outputId": "1dddd030-7cfb-44db-c55c-ff5869fe3a93"
      },
      "execution_count": null,
      "outputs": [
        {
          "output_type": "stream",
          "name": "stdout",
          "text": [
            "Answer:  0.41333333333333333\n"
          ]
        }
      ]
    },
    {
      "cell_type": "markdown",
      "source": [
        "## 3.8 Write a program to compute unsmoothed unigrams and bigrams."
      ],
      "metadata": {
        "id": "5BWM6khL1r6c"
      }
    },
    {
      "cell_type": "code",
      "source": [
        "import random\n",
        "\n",
        "class NgramExtractor():\n",
        "  def __init__(self, filename):\n",
        "    self.filename = filename\n",
        "    self.corpus = self.read_text()\n",
        "    self.unigrams = self.extract_unigrams()\n",
        "    self.bigrams = self.extract_bigrams()\n",
        "\n",
        "  def read_text(self):\n",
        "    with open(self.filename) as f:\n",
        "      lines = f.readlines()\n",
        "\n",
        "    import re\n",
        "    corpus = []\n",
        "    for line in lines:\n",
        "      line = line.replace('\\n', '')\n",
        "      sentences = re.split('[.?!]\\s*', line)\n",
        "      for s in sentences:\n",
        "        if s != '':\n",
        "          corpus.extend(['<s> ' + s.lower().replace(',', '') + ' <\\s>'])\n",
        "    return corpus\n",
        "\n",
        "  def extract_unigrams(self):\n",
        "\n",
        "    lst = {}\n",
        "    for s in self.corpus:\n",
        "      words = s.split()\n",
        "      # appending unigrams\n",
        "      for w in words:\n",
        "        if w not in lst.keys():\n",
        "          lst[w] = 1\n",
        "        else:\n",
        "          lst[w] += 1\n",
        "    total = sum(lst.values())\n",
        "    for index, value in lst.items():\n",
        "      lst[index] = (value, value/total)\n",
        "    return lst\n",
        "\n",
        "  def extract_bigrams(self):\n",
        "    lst = {}\n",
        "    for s in self.corpus:\n",
        "      words = s.split()\n",
        "      # appending bigrams\n",
        "      cntr = 0\n",
        "      for i in range(len(words)-1):\n",
        "        cur_bigram = (words[cntr] + ' ' + words[cntr+1])\n",
        "        if cur_bigram not in lst:\n",
        "          lst[cur_bigram] = 1\n",
        "        else:\n",
        "          lst[cur_bigram] += 1\n",
        "        cntr += 1\n",
        "    total = sum(lst.values())\n",
        "    for index, value in lst.items():\n",
        "      lst[index] = (value, value/total)\n",
        "    return lst\n",
        "\n",
        "  def add1smoothing_proba(self, s):\n",
        "    s = s.lower()\n",
        "    words = s.split()\n",
        "    return (self.bigrams[s][0] + 1) / (self.unigrams[words[0]][0]+len(self.unigrams))\n",
        "\n",
        "  def unsmoothed_proba(self, s):\n",
        "    s = s.lower()\n",
        "    words = s.split()\n",
        "    return self.bigrams[s][0]/self.unigrams[words[0]][0]\n",
        "\n",
        "  def generate_random_sentence(self, length):\n",
        "    words = list(self.unigrams.keys())\n",
        "    words.remove('<s>')\n",
        "    words.remove('<\\s>')\n",
        "    return ' '.join(random.sample(words, length))\n",
        "\n",
        "  def calculate_ppl(self, sentence):\n",
        "    ppl = 1\n",
        "    sentence = ['<s>'] + sentence.strip().split() + ['<\\s>']\n",
        "    for w in sentence:\n",
        "      ppl = self.unigrams[w][1]\n",
        "    return pow(ppl, -1/len(sentence))"
      ],
      "metadata": {
        "id": "zHMZwPgJ2XXl"
      },
      "execution_count": null,
      "outputs": []
    },
    {
      "cell_type": "markdown",
      "source": [
        "## 3.9 Run your n-gram program on two different small corpora of your choice (you might use email text or newsgroups). Now compare the statistics of the two corpora. What are the differences in the most common unigrams between the two? How about interesting differences in bigrams?"
      ],
      "metadata": {
        "id": "-X__cIfocIOU"
      }
    },
    {
      "cell_type": "code",
      "source": [
        "filename = 'MurderOfTheUniverse.txt' #@param\n",
        "model1 = NgramExtractor(filename)\n",
        "model1.corpus[:10]"
      ],
      "metadata": {
        "colab": {
          "base_uri": "https://localhost:8080/"
        },
        "id": "LhrzTPXg1wda",
        "outputId": "765ee90e-23da-4c86-f19a-cb016ec6955a"
      },
      "execution_count": null,
      "outputs": [
        {
          "output_type": "execute_result",
          "data": {
            "text/plain": [
              "['<s> as soon as the dust settles you can see <\\\\s>',\n",
              " '<s> a new world in place of where the old one had been <\\\\s>',\n",
              " '<s> your skin is crawling with dry crusted mud <\\\\s>',\n",
              " '<s> and your naked feet are wet in a pool of blood <\\\\s>',\n",
              " '<s> and the whistle of the wind in your ears is so loud <\\\\s>',\n",
              " '<s> that your memories have blown up in a mushroom cloud <\\\\s>',\n",
              " '<s> and as your eyes accommodate <\\\\s>',\n",
              " '<s> there appears by the meadow <\\\\s>',\n",
              " '<s> a brute like a bear with a long dark shadow <\\\\s>',\n",
              " '<s> and you violently shake over what you have seen <\\\\s>']"
            ]
          },
          "metadata": {},
          "execution_count": 148
        }
      ]
    },
    {
      "cell_type": "code",
      "source": [
        "import pandas as pd\n",
        "motu = pd.Series(model1.unigrams).sort_values(ascending=False).drop(index=['<s>', '<\\s>'])\n",
        "motu[:50]"
      ],
      "metadata": {
        "colab": {
          "base_uri": "https://localhost:8080/"
        },
        "id": "dTfigqTcKVzY",
        "outputId": "9b70fa7c-23a8-44d3-fd00-e6170f963f34"
      },
      "execution_count": null,
      "outputs": [
        {
          "output_type": "execute_result",
          "data": {
            "text/plain": [
              "i            (192, 0.040387042490534285)\n",
              "the          (161, 0.033866217921750104)\n",
              "and          (121, 0.025452250736222128)\n",
              "to            (80, 0.016827934371055953)\n",
              "you           (73, 0.015355490113588556)\n",
              "a              (68, 0.01430374421539756)\n",
              "of            (58, 0.012200252419015565)\n",
              "altered       (54, 0.011358855700462769)\n",
              "my             (52, 0.01093815734118637)\n",
              "balrog        (47, 0.009886411442995372)\n",
              "feel          (46, 0.009676062263357174)\n",
              "me            (45, 0.009465713083718973)\n",
              "beast         (44, 0.009255363904080775)\n",
              "don't         (38, 0.007993268826251577)\n",
              "am            (37, 0.007782919646613378)\n",
              "in            (37, 0.007782919646613378)\n",
              "is            (37, 0.007782919646613378)\n",
              "your          (33, 0.006941522928060581)\n",
              "see           (31, 0.006520824568784182)\n",
              "it            (31, 0.006520824568784182)\n",
              "vomit         (29, 0.006100126209507783)\n",
              "oh            (25, 0.005258729490954985)\n",
              "no            (24, 0.005048380311316786)\n",
              "alter         (22, 0.004627681952040387)\n",
              "that          (21, 0.004417332772402188)\n",
              "with          (20, 0.004206983592763988)\n",
              "are           (20, 0.004206983592763988)\n",
              "an            (20, 0.004206983592763988)\n",
              "from         (19, 0.0039966344131257886)\n",
              "can          (18, 0.0037862852334875894)\n",
              "as             (17, 0.00357593605384939)\n",
              "like           (17, 0.00357593605384939)\n",
              "through       (15, 0.003155237694572991)\n",
              "his           (15, 0.003155237694572991)\n",
              "want          (15, 0.003155237694572991)\n",
              "into          (15, 0.003155237694572991)\n",
              "nonagon       (14, 0.002944888514934792)\n",
              "for           (14, 0.002944888514934792)\n",
              "he           (13, 0.0027345393352965924)\n",
              "coffin       (13, 0.0027345393352965924)\n",
              "all          (13, 0.0027345393352965924)\n",
              "will          (12, 0.002524190155658393)\n",
              "lightning     (12, 0.002524190155658393)\n",
              "up           (11, 0.0023138409760201937)\n",
              "pain         (11, 0.0023138409760201937)\n",
              "head         (11, 0.0023138409760201937)\n",
              "so           (11, 0.0023138409760201937)\n",
              "one          (11, 0.0023138409760201937)\n",
              "have          (10, 0.002103491796381994)\n",
              "be            (10, 0.002103491796381994)\n",
              "dtype: object"
            ]
          },
          "metadata": {},
          "execution_count": 118
        }
      ]
    },
    {
      "cell_type": "code",
      "source": [
        "filename = 'NonagonInfinity.txt' #@param\n",
        "model2 = NgramExtractor(filename)\n",
        "model2.corpus[:10]"
      ],
      "metadata": {
        "colab": {
          "base_uri": "https://localhost:8080/"
        },
        "id": "ZVqqxBQmNgll",
        "outputId": "947e332e-48dd-4c86-e592-0e47a8b3f60c"
      },
      "execution_count": null,
      "outputs": [
        {
          "output_type": "execute_result",
          "data": {
            "text/plain": [
              "['<s> nonagon infinity opens the door <\\\\s>',\n",
              " '<s> nonagon infinity opens the door <\\\\s>',\n",
              " '<s> wait for the answer to open the door <\\\\s>',\n",
              " '<s> nonagon infinity opens the door <\\\\s>',\n",
              " '<s> one two three <\\\\s>',\n",
              " '<s> loosen up <\\\\s>',\n",
              " '<s> time to drop <\\\\s>',\n",
              " '<s> fuck shit up <\\\\s>',\n",
              " \"<s> don't forget about it <\\\\s>\",\n",
              " \"<s> my coffin's all i see <\\\\s>\"]"
            ]
          },
          "metadata": {},
          "execution_count": 130
        }
      ]
    },
    {
      "cell_type": "code",
      "source": [
        "nonagon = pd.Series(model2.unigrams).sort_values(ascending=False).drop(index=['<s>', '<\\s>'])\n",
        "nonagon[:50]"
      ],
      "metadata": {
        "colab": {
          "base_uri": "https://localhost:8080/"
        },
        "id": "L_9aeZjtNpxL",
        "outputId": "6f2108a9-df81-4f09-a39c-a1523b894fa7"
      },
      "execution_count": null,
      "outputs": [
        {
          "output_type": "execute_result",
          "data": {
            "text/plain": [
              "the           (109, 0.04344360302909526)\n",
              "a             (51, 0.020326823435631726)\n",
              "i             (46, 0.018333997608609008)\n",
              "my             (36, 0.01434834595456357)\n",
              "it's          (35, 0.013949780789159028)\n",
              "beat           (33, 0.01315265045834994)\n",
              "to            (30, 0.011956954962136309)\n",
              "i'm           (27, 0.010761259465922678)\n",
              "door           (25, 0.00996412913511359)\n",
              "wasp           (25, 0.00996412913511359)\n",
              "of            (24, 0.009565563969709047)\n",
              "gamma         (24, 0.009565563969709047)\n",
              "is            (23, 0.009166998804304504)\n",
              "knife          (22, 0.00876843363889996)\n",
              "infinity       (22, 0.00876843363889996)\n",
              "nonagon        (22, 0.00876843363889996)\n",
              "only          (21, 0.008369868473495417)\n",
              "fig           (21, 0.008369868473495417)\n",
              "and           (20, 0.007971303308090873)\n",
              "it            (18, 0.007174172977281785)\n",
              "you           (18, 0.007174172977281785)\n",
              "miss          (18, 0.007174172977281785)\n",
              "for           (17, 0.006775607811877242)\n",
              "mr            (16, 0.006377042646472699)\n",
              "once          (16, 0.006377042646472699)\n",
              "opens         (15, 0.005978477481068154)\n",
              "see           (15, 0.005978477481068154)\n",
              "up            (14, 0.005579912315663611)\n",
              "know          (14, 0.005579912315663611)\n",
              "wah           (12, 0.004782781984854523)\n",
              "face          (12, 0.004782781984854523)\n",
              "what           (11, 0.00438421681944998)\n",
              "when         (10, 0.0039856516540454365)\n",
              "body         (10, 0.0039856516540454365)\n",
              "here          (9, 0.0035870864886408927)\n",
              "can           (9, 0.0035870864886408927)\n",
              "your          (9, 0.0035870864886408927)\n",
              "again         (9, 0.0035870864886408927)\n",
              "all           (9, 0.0035870864886408927)\n",
              "in            (9, 0.0035870864886408927)\n",
              "has           (9, 0.0035870864886408927)\n",
              "universe      (8, 0.0031885213232363493)\n",
              "have          (8, 0.0031885213232363493)\n",
              "invisible     (8, 0.0031885213232363493)\n",
              "down          (8, 0.0031885213232363493)\n",
              "robot         (8, 0.0031885213232363493)\n",
              "same          (8, 0.0031885213232363493)\n",
              "just          (8, 0.0031885213232363493)\n",
              "roll          (7, 0.0027899561578318055)\n",
              "machine       (7, 0.0027899561578318055)\n",
              "dtype: object"
            ]
          },
          "metadata": {},
          "execution_count": 120
        }
      ]
    },
    {
      "cell_type": "code",
      "source": [
        "cntr = 0\n",
        "print('Answer: ')\n",
        "for t in model.bigrams.keys():\n",
        "  if cntr < 10:\n",
        "    # if t.startswith('you '):\n",
        "    print(f'P({t}) = {model.unsmoothed_proba(t)}')\n",
        "    cntr +=1"
      ],
      "metadata": {
        "colab": {
          "base_uri": "https://localhost:8080/"
        },
        "id": "K4aSZbUtC01G",
        "outputId": "3ea86b85-1958-4689-cd28-55d365050a4c"
      },
      "execution_count": null,
      "outputs": [
        {
          "output_type": "stream",
          "name": "stdout",
          "text": [
            "Answer: \n",
            "P(<s> nonagon) = 0.05250596658711217\n",
            "P(nonagon infinity) = 1.0\n",
            "P(infinity opens) = 0.6363636363636364\n",
            "P(opens the) = 0.9333333333333333\n",
            "P(the door) = 0.22018348623853212\n",
            "P(door <\\s>) = 0.8\n",
            "P(<s> wait) = 0.011933174224343675\n",
            "P(wait for) = 1.0\n",
            "P(for the) = 0.47058823529411764\n",
            "P(the answer) = 0.045871559633027525\n"
          ]
        }
      ]
    },
    {
      "cell_type": "markdown",
      "source": [
        "Answer:\n",
        "\n",
        "Not really the best or even suitable material for this excercise but still better than nothing. Initially was planning to use happy new year messages published by some independent russian media in 2020, 2021 vs. 2022, 2023, because i thought they would show the shift of the focus from the coronavirus in 2020-2021 to the war in 2022-2023. But sadly i didn't find any media that published such messages for 4 years in a row. So instead settled for lyrics from two King Gizzard and the Lizzard Wizard albums -- Murder of the Universe and Nonagon Infinity.\n",
        "\n",
        "Both showed the highest frequencies for the articles 'the' and 'a' and pronouns like 'i', 'me' and 'my'. In the first album, among most used words are those associated with repulsiveness and evil, such as 'beast', 'balrog', 'vomit', 'pain', 'coffin' etc. which goes hand in hand with the album's narrative."
      ],
      "metadata": {
        "id": "HSzyx3nIdgcV"
      }
    },
    {
      "cell_type": "markdown",
      "source": [
        "## 3.10 Add an option to your program to generate random sentences."
      ],
      "metadata": {
        "id": "WHW6Iu9cmZVT"
      }
    },
    {
      "cell_type": "code",
      "source": [
        "# generate a random sentence of 10 words\n",
        "model1.generate_random_sentence(10)"
      ],
      "metadata": {
        "colab": {
          "base_uri": "https://localhost:8080/",
          "height": 35
        },
        "id": "SWE4pG84mVAZ",
        "outputId": "fe2629ee-003c-41bf-8bfb-737794590dbb"
      },
      "execution_count": null,
      "outputs": [
        {
          "output_type": "execute_result",
          "data": {
            "text/plain": [
              "'swathe deepest heave sabre life lugubrious slip a rotten soggy.'"
            ],
            "application/vnd.google.colaboratory.intrinsic+json": {
              "type": "string"
            }
          },
          "metadata": {},
          "execution_count": 101
        }
      ]
    },
    {
      "cell_type": "code",
      "source": [
        "# generate a random sentence of 10 words\n",
        "model2.generate_random_sentence(10)"
      ],
      "metadata": {
        "colab": {
          "base_uri": "https://localhost:8080/",
          "height": 35
        },
        "id": "inGF6ToMlIF4",
        "outputId": "4f81ff31-f8f8-4c25-82f9-12dfcc9834f8"
      },
      "execution_count": null,
      "outputs": [
        {
          "output_type": "execute_result",
          "data": {
            "text/plain": [
              "'limbs dream dueling rubber obliteration while winged of aflame fig.'"
            ],
            "application/vnd.google.colaboratory.intrinsic+json": {
              "type": "string"
            }
          },
          "metadata": {},
          "execution_count": 97
        }
      ]
    },
    {
      "cell_type": "markdown",
      "source": [
        "## 3.11 Add an option to your program to compute the perplexity of a test set."
      ],
      "metadata": {
        "id": "QBHwreIImeQL"
      }
    },
    {
      "cell_type": "code",
      "source": [
        "# calculate unigram probability of a random sentence\n",
        "model1.calculate_ppl('swathe deepest heave sabre life lugubrious slip a rotten soggy')"
      ],
      "metadata": {
        "colab": {
          "base_uri": "https://localhost:8080/"
        },
        "id": "6Q4vQ3l-uw25",
        "outputId": "9f6c8267-ba61-4cd6-ab71-641968d51e66"
      },
      "execution_count": null,
      "outputs": [
        {
          "output_type": "execute_result",
          "data": {
            "text/plain": [
              "1.1765021002165172"
            ]
          },
          "metadata": {},
          "execution_count": 151
        }
      ]
    },
    {
      "cell_type": "markdown",
      "source": [
        "## 3.12 You are given a training set of 100 numbers that consists of 91 zeros and 1 each of the other digits 1-9. Now we see the following test set: 0 0 0 0 0 3 0 0 0 0. What is the unigram perplexity?"
      ],
      "metadata": {
        "id": "sWF9bCtxyNhO"
      }
    },
    {
      "cell_type": "code",
      "source": [
        "pow((0.91**9)*0.09, -1/10)"
      ],
      "metadata": {
        "colab": {
          "base_uri": "https://localhost:8080/"
        },
        "id": "-Q3lwERNynnc",
        "outputId": "92004719-cf31-4a93-8aaa-b1e08d999d9e"
      },
      "execution_count": null,
      "outputs": [
        {
          "output_type": "execute_result",
          "data": {
            "text/plain": [
              "1.384964035825701"
            ]
          },
          "metadata": {},
          "execution_count": 153
        }
      ]
    }
  ]
}